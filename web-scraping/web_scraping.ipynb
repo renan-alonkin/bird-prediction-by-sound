{
 "cells": [
  {
   "cell_type": "code",
   "execution_count": 1,
   "metadata": {},
   "outputs": [],
   "source": [
    "import os\n",
    "import requests\n",
    "from pathlib import Path"
   ]
  },
  {
   "cell_type": "markdown",
   "metadata": {},
   "source": [
    "To use the selenium and the ChromeDriver, you will have to:\n",
    "\n",
    "- `conda install -c conda-forge selenium`\n",
    "\n",
    "Then you need to download ChromeDriver, install it here: <br>\n",
    "https://sites.google.com/a/chromium.org/chromedriver/downloads\n",
    "\n",
    "Be sure you download the right Chrome version. <br>\n",
    "If you don't know your chrome version, you just need to click at options, help, about chrome and then you will find the right version for you. \n",
    "\n",
    "Once you have the chromedriver downloaded, run thoses lines:\n",
    "\n",
    "```\n",
    "sudo mv chromedriver /usr/bin/chromedriver\n",
    "sudo chown root:root /usr/bin/chromedriver\n",
    "sudo chmod +x /usr/bin/chromedriver\n",
    "```\n",
    "\n",
    "In case you are using a Windows Environment, you need to add the chromedriver to `path`"
   ]
  },
  {
   "cell_type": "code",
   "execution_count": 8,
   "metadata": {},
   "outputs": [],
   "source": [
    "from selenium import webdriver\n",
    "from selenium.webdriver.firefox.service import Service\n",
    "from selenium.webdriver.common.by import By\n",
    "\n",
    "options = webdriver.FirefoxOptions()\n",
    "options.add_argument('-headless')\n",
    "# Configurar o WebDriver\n",
    "webdriver_service = Service('/usr/bin/geckodriver')\n",
    "driver = webdriver.Firefox(service=webdriver_service, options=options)\n",
    "\n",
    "driver.get(\"https://www.wikiaves.com.br/midias.php?tm=s&t=s&s=11644&o=mp\")"
   ]
  },
  {
   "cell_type": "markdown",
   "metadata": {},
   "source": [
    "# Test - Downloading the bird's audio:\n",
    "\n",
    "- I've selected a random bird to check how the download can be done"
   ]
  },
  {
   "cell_type": "code",
   "execution_count": 9,
   "metadata": {},
   "outputs": [
    {
     "name": "stdout",
     "output_type": "stream",
     "text": [
      "canário-da-terra (Sicalis flaveola)\n",
      "canário-da-terra\n",
      "Sicalis flaveola\n"
     ]
    }
   ],
   "source": [
    "# Testing if selenium is working properly \n",
    "\n",
    "title = driver.find_element(By.CLASS_NAME, 'wa-registros-titulo')\n",
    "complete_name = title.text.strip('Sons de ')\n",
    "popular_name = complete_name.split(' ')[0]\n",
    "cientific_name = complete_name[complete_name.find('(') + 1: complete_name.find(')')] \n",
    "\n",
    "print(complete_name)\n",
    "print(popular_name)\n",
    "print(cientific_name)"
   ]
  },
  {
   "cell_type": "code",
   "execution_count": 14,
   "metadata": {},
   "outputs": [],
   "source": [
    "import os\n",
    "import requests\n",
    "from concurrent.futures import ThreadPoolExecutor\n",
    "\n",
    "# Verify if the folder exists, if not, it will create it\n",
    "folder_path = \"../audio/\"\n",
    "if not os.path.exists(folder_path):\n",
    "    os.makedirs(folder_path)\n",
    "\n",
    "# Testing the download\n",
    "audios = driver.find_elements(By.TAG_NAME, 'audio')\n",
    "\n",
    "# Limit the number of downloaded files to 20\n",
    "max_files = 20\n",
    "\n",
    "# Define a function to download a single file\n",
    "def download_file(n, audio_src):\n",
    "    url = audio_src.get_attribute('src')\n",
    "    r = requests.get(url, allow_redirects=True)\n",
    "    filename = folder_path + popular_name + \"_\" + str(n) + \".mp3\"\n",
    "    open(filename, 'wb').write(r.content)\n",
    "\n",
    "# Use a ThreadPoolExecutor to download the files in parallel\n",
    "with ThreadPoolExecutor(max_workers=5) as executor:\n",
    "    for n, audio_src in enumerate(audios[:max_files], 0):\n",
    "        executor.submit(download_file, n, audio_src)"
   ]
  },
  {
   "cell_type": "markdown",
   "metadata": {},
   "source": [
    "# Test - Getting the link to the bird page based on a region: \n",
    "\n",
    "- The following link has a search to show only the birds in the Lages - SC (BR) region"
   ]
  },
  {
   "cell_type": "code",
   "execution_count": 16,
   "metadata": {},
   "outputs": [],
   "source": [
    "driver.get(\"https://www.wikiaves.com.br/especies.php?t=c&c=4209300&o=5\")\n",
    "table = driver.find_element(By.TAG_NAME, 'table')"
   ]
  },
  {
   "cell_type": "code",
   "execution_count": 17,
   "metadata": {},
   "outputs": [],
   "source": [
    "table_body = table.find_element(By.TAG_NAME, 'tbody')\n",
    "table_rows = table_body.find_elements(By.TAG_NAME, 'tr')"
   ]
  },
  {
   "cell_type": "code",
   "execution_count": 19,
   "metadata": {
    "tags": []
   },
   "outputs": [
    {
     "name": "stdout",
     "output_type": "stream",
     "text": [
      "https://www.wikiaves.com.br/wiki/curicaca\n",
      "https://www.wikiaves.com.br/wiki/canario-da-terra\n",
      "https://www.wikiaves.com.br/wiki/sabia-do-campo\n",
      "https://www.wikiaves.com.br/wiki/caboclinho-de-barriga-preta\n",
      "https://www.wikiaves.com.br/wiki/veste-amarela\n"
     ]
    }
   ],
   "source": [
    "# Checking the the elements in the table\n",
    "for row_n, tr in enumerate(table_rows[:10], start= 1):\n",
    "    for td_n, td in enumerate(tr.find_elements(By.TAG_NAME, 'a'), start= 1):\n",
    "        if(td.get_attribute(\"class\") == \"font-green-dark\"):\n",
    "            print(td.get_attribute('href'))"
   ]
  },
  {
   "cell_type": "markdown",
   "metadata": {},
   "source": [
    "**As we can see, links can repeat multiple time, so we will have to save it as a set, so we don't have repeated links**"
   ]
  },
  {
   "cell_type": "code",
   "execution_count": 20,
   "metadata": {},
   "outputs": [
    {
     "name": "stdout",
     "output_type": "stream",
     "text": [
      "First 10 links of our search:\n",
      " ['https://www.wikiaves.com.br/wiki/suindara', 'https://www.wikiaves.com.br/wiki/arapacu-verde', 'https://www.wikiaves.com.br/wiki/gaviao-bombachinha-grande', 'https://www.wikiaves.com.br/wiki/gralha-picaca', 'https://www.wikiaves.com.br/wiki/papa-moscas-cinzento', 'https://www.wikiaves.com.br/wiki/tovaca-campainha', 'https://www.wikiaves.com.br/wiki/pica-pau-do-campo', 'https://www.wikiaves.com.br/wiki/martim-pescador-verde', 'https://www.wikiaves.com.br/wiki/galinha-d_agua', 'https://www.wikiaves.com.br/wiki/papa-lagarta-acanelado']\n"
     ]
    }
   ],
   "source": [
    "# Creates a set, so links will not repeat\n",
    "bird_page_set = set([])\n",
    "\n",
    "# Checking the the elements in the table\n",
    "for row_n, tr in enumerate(table_rows, start= 1):\n",
    "    for td_n, td in enumerate(tr.find_elements(By.TAG_NAME, 'a'), start= 1):\n",
    "        if(td.get_attribute(\"class\") == \"font-green-dark\"):\n",
    "            bird_page_set.add(td.get_attribute('href'))\n",
    "\n",
    "print(\"First 10 links of our search:\\n\", list(bird_page_set)[:10])"
   ]
  },
  {
   "cell_type": "markdown",
   "metadata": {},
   "source": [
    "## Getting into the audio page"
   ]
  },
  {
   "cell_type": "code",
   "execution_count": 21,
   "metadata": {},
   "outputs": [],
   "source": [
    "driver.get(list(bird_page_set)[0])"
   ]
  },
  {
   "cell_type": "code",
   "execution_count": 23,
   "metadata": {},
   "outputs": [
    {
     "data": {
      "text/plain": [
       "'https://www.wikiaves.com.br/midias.php?tm=s&t=s&s=10512'"
      ]
     },
     "execution_count": 23,
     "metadata": {},
     "output_type": "execute_result"
    }
   ],
   "source": [
    "driver.find_element(By.LINK_TEXT, \"Sons\").get_attribute('href')"
   ]
  },
  {
   "cell_type": "markdown",
   "metadata": {},
   "source": [
    "# Doing the real thing\n",
    "\n",
    "Now that we have the list of the links, we can now run the following code to download the audios into the audios folder"
   ]
  },
  {
   "cell_type": "code",
   "execution_count": 24,
   "metadata": {},
   "outputs": [],
   "source": [
    "links_list = list(bird_page_set)"
   ]
  },
  {
   "cell_type": "code",
   "execution_count": 26,
   "metadata": {},
   "outputs": [
    {
     "data": {
      "text/plain": [
       "['https://www.wikiaves.com.br/wiki/suindara',\n",
       " 'https://www.wikiaves.com.br/wiki/arapacu-verde',\n",
       " 'https://www.wikiaves.com.br/wiki/gaviao-bombachinha-grande',\n",
       " 'https://www.wikiaves.com.br/wiki/gralha-picaca',\n",
       " 'https://www.wikiaves.com.br/wiki/papa-moscas-cinzento',\n",
       " 'https://www.wikiaves.com.br/wiki/tovaca-campainha',\n",
       " 'https://www.wikiaves.com.br/wiki/pica-pau-do-campo',\n",
       " 'https://www.wikiaves.com.br/wiki/martim-pescador-verde',\n",
       " 'https://www.wikiaves.com.br/wiki/galinha-d_agua',\n",
       " 'https://www.wikiaves.com.br/wiki/papa-lagarta-acanelado',\n",
       " 'https://www.wikiaves.com.br/wiki/beija-flor-de-topete-azul',\n",
       " 'https://www.wikiaves.com.br/wiki/pica-pau-verde-barrado',\n",
       " 'https://www.wikiaves.com.br/wiki/pica-pau-verde-carijo',\n",
       " 'https://www.wikiaves.com.br/wiki/tauato-miudo',\n",
       " 'https://www.wikiaves.com.br/wiki/abre-asa-de-cabeca-cinza',\n",
       " 'https://www.wikiaves.com.br/wiki/besourinho-de-bico-vermelho',\n",
       " 'https://www.wikiaves.com.br/wiki/mariquita',\n",
       " 'https://www.wikiaves.com.br/wiki/figuinha-de-rabo-castanho',\n",
       " 'https://www.wikiaves.com.br/wiki/choca-de-chapeu-vermelho',\n",
       " 'https://www.wikiaves.com.br/wiki/sai-andorinha',\n",
       " 'https://www.wikiaves.com.br/wiki/sabia-do-banhado',\n",
       " 'https://www.wikiaves.com.br/wiki/peitica',\n",
       " 'https://www.wikiaves.com.br/wiki/garca-vaqueira',\n",
       " 'https://www.wikiaves.com.br/wiki/pichorore',\n",
       " 'https://www.wikiaves.com.br/wiki/uru',\n",
       " 'https://www.wikiaves.com.br/wiki/jacuguacu',\n",
       " 'https://www.wikiaves.com.br/wiki/suiriri',\n",
       " 'https://www.wikiaves.com.br/wiki/saracura-do-mato',\n",
       " 'https://www.wikiaves.com.br/wiki/noivinha-de-rabo-preto',\n",
       " 'https://www.wikiaves.com.br/wiki/maria-faceira',\n",
       " 'https://www.wikiaves.com.br/wiki/patativa-tropeira',\n",
       " 'https://www.wikiaves.com.br/wiki/galinha-d_agua-carijo',\n",
       " 'https://www.wikiaves.com.br/wiki/bem-te-vi-rajado',\n",
       " 'https://www.wikiaves.com.br/wiki/tesourinha',\n",
       " 'https://www.wikiaves.com.br/wiki/chupa-dente',\n",
       " 'https://www.wikiaves.com.br/wiki/avoante',\n",
       " 'https://www.wikiaves.com.br/wiki/caneleiro-preto',\n",
       " 'https://www.wikiaves.com.br/wiki/falcao-de-coleira',\n",
       " 'https://www.wikiaves.com.br/wiki/pomba-galega',\n",
       " 'https://www.wikiaves.com.br/wiki/taperucu-velho',\n",
       " 'https://www.wikiaves.com.br/wiki/marreca-de-coleira',\n",
       " 'https://www.wikiaves.com.br/wiki/pica-pau-branco',\n",
       " 'https://www.wikiaves.com.br/wiki/quete-do-sul',\n",
       " 'https://www.wikiaves.com.br/wiki/bacurau-tesourao',\n",
       " 'https://www.wikiaves.com.br/wiki/sabia-coleira',\n",
       " 'https://www.wikiaves.com.br/wiki/irre',\n",
       " 'https://www.wikiaves.com.br/wiki/tiriba-de-testa-vermelha',\n",
       " 'https://www.wikiaves.com.br/wiki/coro-coro',\n",
       " 'https://www.wikiaves.com.br/wiki/quem-te-vestiu',\n",
       " 'https://www.wikiaves.com.br/wiki/curiango-do-banhado',\n",
       " 'https://www.wikiaves.com.br/wiki/pernilongo-de-costas-brancas',\n",
       " 'https://www.wikiaves.com.br/wiki/pomba-asa-branca',\n",
       " 'https://www.wikiaves.com.br/wiki/corruira',\n",
       " 'https://www.wikiaves.com.br/wiki/bem-te-vi',\n",
       " 'https://www.wikiaves.com.br/wiki/bacurau-tesoura',\n",
       " 'https://www.wikiaves.com.br/wiki/biguatinga',\n",
       " 'https://www.wikiaves.com.br/wiki/gaviao-caboclo',\n",
       " 'https://www.wikiaves.com.br/wiki/tiziu',\n",
       " 'https://www.wikiaves.com.br/wiki/perdiz',\n",
       " 'https://www.wikiaves.com.br/wiki/pi-pui',\n",
       " 'https://www.wikiaves.com.br/wiki/gaviao-pernilongo',\n",
       " 'https://www.wikiaves.com.br/wiki/sanhaco-cinzento',\n",
       " 'https://www.wikiaves.com.br/wiki/tuque-pium',\n",
       " 'https://www.wikiaves.com.br/wiki/risadinha',\n",
       " 'https://www.wikiaves.com.br/wiki/gaviao-do-banhado',\n",
       " 'https://www.wikiaves.com.br/wiki/cardeal',\n",
       " 'https://www.wikiaves.com.br/wiki/gaviao-pega-macaco',\n",
       " 'https://www.wikiaves.com.br/wiki/andorinha-morena',\n",
       " 'https://www.wikiaves.com.br/wiki/marreca-ananai',\n",
       " 'https://www.wikiaves.com.br/wiki/gaviao-gato',\n",
       " 'https://www.wikiaves.com.br/wiki/grimpeiro',\n",
       " 'https://www.wikiaves.com.br/wiki/narcejao',\n",
       " 'https://www.wikiaves.com.br/wiki/arapacu-escamoso-do-sul',\n",
       " 'https://www.wikiaves.com.br/wiki/juriti-pupu',\n",
       " 'https://www.wikiaves.com.br/wiki/gaviao-preto',\n",
       " 'https://www.wikiaves.com.br/wiki/anambe-branco-de-rabo-preto',\n",
       " 'https://www.wikiaves.com.br/wiki/andorinha-de-bando',\n",
       " 'https://www.wikiaves.com.br/wiki/macarico-solitario',\n",
       " 'https://www.wikiaves.com.br/wiki/soco-boi-baio',\n",
       " 'https://www.wikiaves.com.br/wiki/cuiu-cuiu',\n",
       " 'https://www.wikiaves.com.br/wiki/tucao',\n",
       " 'https://www.wikiaves.com.br/wiki/rolinha-picui',\n",
       " 'https://www.wikiaves.com.br/wiki/andorinha-de-dorso-acanelado',\n",
       " 'https://www.wikiaves.com.br/wiki/choca-da-mata',\n",
       " 'https://www.wikiaves.com.br/wiki/pica-pau-dourado',\n",
       " 'https://www.wikiaves.com.br/wiki/bacurau-da-telha',\n",
       " 'https://www.wikiaves.com.br/wiki/curutie',\n",
       " 'https://www.wikiaves.com.br/wiki/anu-preto',\n",
       " 'https://www.wikiaves.com.br/wiki/gralha-azul',\n",
       " 'https://www.wikiaves.com.br/wiki/passaro-preto',\n",
       " 'https://www.wikiaves.com.br/wiki/corucao',\n",
       " 'https://www.wikiaves.com.br/wiki/pula-pula-assobiador',\n",
       " 'https://www.wikiaves.com.br/wiki/saracura-carijo',\n",
       " 'https://www.wikiaves.com.br/wiki/tio-tio',\n",
       " 'https://www.wikiaves.com.br/wiki/maitaca-verde',\n",
       " 'https://www.wikiaves.com.br/wiki/primavera',\n",
       " 'https://www.wikiaves.com.br/wiki/sabia-laranjeira',\n",
       " 'https://www.wikiaves.com.br/wiki/gaviao-peneira',\n",
       " 'https://www.wikiaves.com.br/wiki/saracura-sana',\n",
       " 'https://www.wikiaves.com.br/wiki/carao',\n",
       " 'https://www.wikiaves.com.br/wiki/socoi-amarelo',\n",
       " 'https://www.wikiaves.com.br/wiki/mergulhao-cacador',\n",
       " 'https://www.wikiaves.com.br/wiki/mergulhao-pequeno',\n",
       " 'https://www.wikiaves.com.br/wiki/encontro',\n",
       " 'https://www.wikiaves.com.br/wiki/caneleiro-de-chapeu-preto',\n",
       " 'https://www.wikiaves.com.br/wiki/tico-tico',\n",
       " 'https://www.wikiaves.com.br/wiki/arredio-olivaceo',\n",
       " 'https://www.wikiaves.com.br/wiki/andorinha-do-campo',\n",
       " 'https://www.wikiaves.com.br/wiki/joao-bobo',\n",
       " 'https://www.wikiaves.com.br/wiki/tipio',\n",
       " 'https://www.wikiaves.com.br/wiki/chupim-azeviche',\n",
       " 'https://www.wikiaves.com.br/wiki/beija-flor-tesoura',\n",
       " 'https://www.wikiaves.com.br/wiki/surucua-variado',\n",
       " 'https://www.wikiaves.com.br/wiki/carrapateiro',\n",
       " 'https://www.wikiaves.com.br/wiki/gaviao-carijo',\n",
       " 'https://www.wikiaves.com.br/wiki/macarico-de-perna-amarela',\n",
       " 'https://www.wikiaves.com.br/wiki/joao-tenenem',\n",
       " 'https://www.wikiaves.com.br/wiki/rolinha-fogo-apagou',\n",
       " 'https://www.wikiaves.com.br/wiki/canario-do-brejo',\n",
       " 'https://www.wikiaves.com.br/wiki/gaviao-de-rabo-branco',\n",
       " 'https://www.wikiaves.com.br/wiki/catraca',\n",
       " 'https://www.wikiaves.com.br/wiki/guaracava-cinzenta',\n",
       " 'https://www.wikiaves.com.br/wiki/sovi',\n",
       " 'https://www.wikiaves.com.br/wiki/suiriri-cavaleiro',\n",
       " 'https://www.wikiaves.com.br/wiki/pardal',\n",
       " 'https://www.wikiaves.com.br/wiki/neinei',\n",
       " 'https://www.wikiaves.com.br/wiki/negrinho-do-mato',\n",
       " 'https://www.wikiaves.com.br/wiki/martim-pescador-grande',\n",
       " 'https://www.wikiaves.com.br/wiki/arapacu-grande',\n",
       " 'https://www.wikiaves.com.br/wiki/cabeca-seca',\n",
       " 'https://www.wikiaves.com.br/wiki/borralhara-assobiadora',\n",
       " 'https://www.wikiaves.com.br/wiki/sabia-do-campo',\n",
       " 'https://www.wikiaves.com.br/wiki/canario-rasteiro',\n",
       " 'https://www.wikiaves.com.br/wiki/coleirinho',\n",
       " 'https://www.wikiaves.com.br/wiki/bigua',\n",
       " 'https://www.wikiaves.com.br/wiki/principe',\n",
       " 'https://www.wikiaves.com.br/wiki/falcao-relogio',\n",
       " 'https://www.wikiaves.com.br/wiki/anu-branco',\n",
       " 'https://www.wikiaves.com.br/wiki/quiriquiri',\n",
       " 'https://www.wikiaves.com.br/wiki/aguia-pescadora',\n",
       " 'https://www.wikiaves.com.br/wiki/saira-preciosa',\n",
       " 'https://www.wikiaves.com.br/wiki/carcara',\n",
       " 'https://www.wikiaves.com.br/wiki/tangara',\n",
       " 'https://www.wikiaves.com.br/wiki/gaviao-de-sobre-branco',\n",
       " 'https://www.wikiaves.com.br/wiki/canario-da-terra',\n",
       " 'https://www.wikiaves.com.br/wiki/codorna-amarela',\n",
       " 'https://www.wikiaves.com.br/wiki/tico-tico-rei',\n",
       " 'https://www.wikiaves.com.br/wiki/urutau',\n",
       " 'https://www.wikiaves.com.br/wiki/mocho-dos-banhados',\n",
       " 'https://www.wikiaves.com.br/wiki/picapauzinho-carijo',\n",
       " 'https://www.wikiaves.com.br/wiki/beija-flor-de-veste-preta',\n",
       " 'https://www.wikiaves.com.br/wiki/suiriri-pequeno',\n",
       " 'https://www.wikiaves.com.br/wiki/gaviao-caramujeiro',\n",
       " 'https://www.wikiaves.com.br/wiki/sana-vermelha',\n",
       " 'https://www.wikiaves.com.br/wiki/tie-preto',\n",
       " 'https://www.wikiaves.com.br/wiki/urubu-de-cabeca-vermelha',\n",
       " 'https://www.wikiaves.com.br/wiki/alegrinho',\n",
       " 'https://www.wikiaves.com.br/wiki/aguia-serrana',\n",
       " 'https://www.wikiaves.com.br/wiki/gaviao-tesoura',\n",
       " 'https://www.wikiaves.com.br/wiki/pombo-domestico',\n",
       " 'https://www.wikiaves.com.br/wiki/tuque',\n",
       " 'https://www.wikiaves.com.br/wiki/pedreiro',\n",
       " 'https://www.wikiaves.com.br/wiki/maria-preta-de-garganta-vermelha',\n",
       " 'https://www.wikiaves.com.br/wiki/pula-pula',\n",
       " 'https://www.wikiaves.com.br/wiki/papa-moscas-do-campo',\n",
       " 'https://www.wikiaves.com.br/wiki/andorinhao-do-temporal',\n",
       " 'https://www.wikiaves.com.br/wiki/coruja-listrada',\n",
       " 'https://www.wikiaves.com.br/wiki/cochicho',\n",
       " 'https://www.wikiaves.com.br/wiki/sabia-una',\n",
       " 'https://www.wikiaves.com.br/wiki/garca-branca-grande',\n",
       " 'https://www.wikiaves.com.br/wiki/urubu-rei',\n",
       " 'https://www.wikiaves.com.br/wiki/tico-tico-do-campo',\n",
       " 'https://www.wikiaves.com.br/wiki/marreca-parda',\n",
       " 'https://www.wikiaves.com.br/wiki/grimpeirinho',\n",
       " 'https://www.wikiaves.com.br/wiki/garca-branca-pequena',\n",
       " 'https://www.wikiaves.com.br/wiki/andorinha-pequena-de-casa',\n",
       " 'https://www.wikiaves.com.br/wiki/andorinha-de-sobre-branco',\n",
       " 'https://www.wikiaves.com.br/wiki/narceja',\n",
       " 'https://www.wikiaves.com.br/wiki/marreca-caneleira',\n",
       " 'https://www.wikiaves.com.br/wiki/pintassilgo',\n",
       " 'https://www.wikiaves.com.br/wiki/trepador-quiete',\n",
       " 'https://www.wikiaves.com.br/wiki/caminheiro-de-barriga-acanelada',\n",
       " 'https://www.wikiaves.com.br/wiki/jacurutu',\n",
       " 'https://www.wikiaves.com.br/wiki/corujinha-do-mato',\n",
       " 'https://www.wikiaves.com.br/wiki/matracao',\n",
       " 'https://www.wikiaves.com.br/wiki/borboletinha-do-mato',\n",
       " 'https://www.wikiaves.com.br/wiki/bico-de-lacre',\n",
       " 'https://www.wikiaves.com.br/wiki/beija-flor-de-banda-branca',\n",
       " 'https://www.wikiaves.com.br/wiki/piolhinho-verdoso',\n",
       " 'https://www.wikiaves.com.br/wiki/jacana',\n",
       " 'https://www.wikiaves.com.br/wiki/soco-dorminhoco',\n",
       " 'https://www.wikiaves.com.br/wiki/arredio-do-gravata',\n",
       " 'https://www.wikiaves.com.br/wiki/maria-preta-de-penacho',\n",
       " 'https://www.wikiaves.com.br/wiki/quero-quero',\n",
       " 'https://www.wikiaves.com.br/wiki/sanhaco-de-fogo',\n",
       " 'https://www.wikiaves.com.br/wiki/tico-tico-do-banhado',\n",
       " 'https://www.wikiaves.com.br/wiki/papa-lagarta-de-asa-vermelha',\n",
       " 'https://www.wikiaves.com.br/wiki/joao-porca',\n",
       " 'https://www.wikiaves.com.br/wiki/maguari',\n",
       " 'https://www.wikiaves.com.br/wiki/bico-grosso',\n",
       " 'https://www.wikiaves.com.br/wiki/marreca-pardinha',\n",
       " 'https://www.wikiaves.com.br/wiki/saira-viuva',\n",
       " 'https://www.wikiaves.com.br/wiki/tesoura-cinzenta',\n",
       " 'https://www.wikiaves.com.br/wiki/tacha',\n",
       " 'https://www.wikiaves.com.br/wiki/bacurau',\n",
       " 'https://www.wikiaves.com.br/wiki/papagaio-charao',\n",
       " 'https://www.wikiaves.com.br/wiki/beija-flor-de-papo-branco',\n",
       " 'https://www.wikiaves.com.br/wiki/murucututu-de-barriga-amarela',\n",
       " 'https://www.wikiaves.com.br/wiki/tuju',\n",
       " 'https://www.wikiaves.com.br/wiki/sabia-ferreiro',\n",
       " 'https://www.wikiaves.com.br/wiki/pica-pau-rei',\n",
       " 'https://www.wikiaves.com.br/wiki/beija-flor-de-orelha-violeta',\n",
       " 'https://www.wikiaves.com.br/wiki/juruviara',\n",
       " 'https://www.wikiaves.com.br/wiki/cabecinha-castanha',\n",
       " 'https://www.wikiaves.com.br/wiki/chimango',\n",
       " 'https://www.wikiaves.com.br/wiki/garca-moura',\n",
       " 'https://www.wikiaves.com.br/wiki/joao-de-barro',\n",
       " 'https://www.wikiaves.com.br/wiki/estrelinha-ametista',\n",
       " 'https://www.wikiaves.com.br/wiki/carqueja-de-bico-amarelo',\n",
       " 'https://www.wikiaves.com.br/wiki/asa-de-telha',\n",
       " 'https://www.wikiaves.com.br/wiki/pia-cobra',\n",
       " 'https://www.wikiaves.com.br/wiki/caminheiro-dourado',\n",
       " 'https://www.wikiaves.com.br/wiki/tapicuru',\n",
       " 'https://www.wikiaves.com.br/wiki/garibaldi',\n",
       " 'https://www.wikiaves.com.br/wiki/caturrita',\n",
       " 'https://www.wikiaves.com.br/wiki/cabecudo',\n",
       " 'https://www.wikiaves.com.br/wiki/pitiguari',\n",
       " 'https://www.wikiaves.com.br/wiki/trinca-ferro',\n",
       " 'https://www.wikiaves.com.br/wiki/benedito-de-testa-amarela',\n",
       " 'https://www.wikiaves.com.br/wiki/sanhaco-frade',\n",
       " 'https://www.wikiaves.com.br/wiki/martim-pescador-pequeno',\n",
       " 'https://www.wikiaves.com.br/wiki/caneleiro-verde',\n",
       " 'https://www.wikiaves.com.br/wiki/coruja-buraqueira',\n",
       " 'https://www.wikiaves.com.br/wiki/policia-inglesa-do-sul',\n",
       " 'https://www.wikiaves.com.br/wiki/chupim',\n",
       " 'https://www.wikiaves.com.br/wiki/papa-moscas-canela',\n",
       " 'https://www.wikiaves.com.br/wiki/seriema',\n",
       " 'https://www.wikiaves.com.br/wiki/inhambuguacu',\n",
       " 'https://www.wikiaves.com.br/wiki/sabia-poca',\n",
       " 'https://www.wikiaves.com.br/wiki/gaviao-de-cauda-curta',\n",
       " 'https://www.wikiaves.com.br/wiki/piolhinho',\n",
       " 'https://www.wikiaves.com.br/wiki/andorinha-grande',\n",
       " 'https://www.wikiaves.com.br/wiki/tucano-de-bico-verde',\n",
       " 'https://www.wikiaves.com.br/wiki/cisqueiro',\n",
       " 'https://www.wikiaves.com.br/wiki/anambe-branco-de-bochecha-parda',\n",
       " 'https://www.wikiaves.com.br/wiki/caboclinho-de-barriga-preta',\n",
       " 'https://www.wikiaves.com.br/wiki/curicaca',\n",
       " 'https://www.wikiaves.com.br/wiki/caboclinho-de-barriga-vermelha',\n",
       " 'https://www.wikiaves.com.br/wiki/andorinha-serradora',\n",
       " 'https://www.wikiaves.com.br/wiki/gaturamo-bandeira',\n",
       " 'https://www.wikiaves.com.br/wiki/bico-chato-de-orelha-preta',\n",
       " 'https://www.wikiaves.com.br/wiki/tecelao',\n",
       " 'https://www.wikiaves.com.br/wiki/corujinha-do-sul',\n",
       " 'https://www.wikiaves.com.br/wiki/periquitao',\n",
       " 'https://www.wikiaves.com.br/wiki/lavadeira-mascarada',\n",
       " 'https://www.wikiaves.com.br/wiki/rolinha-roxa',\n",
       " 'https://www.wikiaves.com.br/wiki/socozinho',\n",
       " 'https://www.wikiaves.com.br/wiki/saracura-do-banhado',\n",
       " 'https://www.wikiaves.com.br/wiki/pato-do-mato',\n",
       " 'https://www.wikiaves.com.br/wiki/sanhaco-papa-laranja',\n",
       " 'https://www.wikiaves.com.br/wiki/carauna',\n",
       " 'https://www.wikiaves.com.br/wiki/urubu-preto',\n",
       " 'https://www.wikiaves.com.br/wiki/aguia-cinzenta',\n",
       " 'https://www.wikiaves.com.br/wiki/taperucu-de-coleira-branca',\n",
       " 'https://www.wikiaves.com.br/wiki/caneleiro',\n",
       " 'https://www.wikiaves.com.br/wiki/azulinho',\n",
       " 'https://www.wikiaves.com.br/wiki/veste-amarela',\n",
       " 'https://www.wikiaves.com.br/wiki/gaviao-de-penacho',\n",
       " 'https://www.wikiaves.com.br/wiki/tororo',\n",
       " 'https://www.wikiaves.com.br/wiki/alma-de-gato',\n",
       " 'https://www.wikiaves.com.br/wiki/arapacu-de-garganta-branca',\n",
       " 'https://www.wikiaves.com.br/wiki/patinho',\n",
       " 'https://www.wikiaves.com.br/wiki/enferrujado',\n",
       " 'https://www.wikiaves.com.br/wiki/joao-pobre',\n",
       " 'https://www.wikiaves.com.br/wiki/gibao-de-couro',\n",
       " 'https://www.wikiaves.com.br/wiki/verdinho-coroado',\n",
       " 'https://www.wikiaves.com.br/wiki/beija-flor-preto',\n",
       " 'https://www.wikiaves.com.br/wiki/irere',\n",
       " 'https://www.wikiaves.com.br/wiki/sabia-barranco',\n",
       " 'https://www.wikiaves.com.br/wiki/chupim-do-brejo',\n",
       " 'https://www.wikiaves.com.br/wiki/falcao-cabure',\n",
       " 'https://www.wikiaves.com.br/wiki/pica-pau-de-banda-branca',\n",
       " 'https://www.wikiaves.com.br/wiki/saira-de-papo-preto',\n",
       " 'https://www.wikiaves.com.br/wiki/maria-preta-de-bico-azulado',\n",
       " 'https://www.wikiaves.com.br/wiki/filipe',\n",
       " 'https://www.wikiaves.com.br/wiki/cigarra-bambu',\n",
       " 'https://www.wikiaves.com.br/wiki/papagaio-de-peito-roxo',\n",
       " 'https://www.wikiaves.com.br/wiki/trepadorzinho']"
      ]
     },
     "execution_count": 26,
     "metadata": {},
     "output_type": "execute_result"
    }
   ],
   "source": [
    "links_list"
   ]
  },
  {
   "cell_type": "code",
   "execution_count": 31,
   "metadata": {},
   "outputs": [
    {
     "name": "stdout",
     "output_type": "stream",
     "text": [
      "https://www.wikiaves.com.br/midias.php?tm=s&t=s&s=10512\n",
      "suindara_Tyto_furcata\n",
      "Downloading audios\n",
      "https://www.wikiaves.com.br/midias.php?tm=s&t=s&s=11011\n",
      "arapaçu-verde_Sittasomus_griseicapillus\n",
      "Downloading audios\n",
      "https://www.wikiaves.com.br/midias.php?tm=s&t=s&s=10212\n",
      "gavião-bombachinha-grande_Accipiter_bicolor\n",
      "Downloading audios\n",
      "https://www.wikiaves.com.br/midias.php?tm=s&t=s&s=11473\n",
      "gralha-picaça_Cyanocorax_chrysops\n",
      "Downloading audios\n",
      "https://www.wikiaves.com.br/midias.php?tm=s&t=s&s=11287\n",
      "papa-moscas-cinzento_Contopus_cinereus\n",
      "Downloading audios\n"
     ]
    }
   ],
   "source": [
    "import concurrent.futures\n",
    "\n",
    "def download_audio(audio_src, n, complete_name):\n",
    "    url = audio_src.get_attribute('src')\n",
    "    r = requests.get(url, allow_redirects=True)\n",
    "    filename = '../audios/' + complete_name + \"_\" + str(n) + \".mp3\"\n",
    "    open(filename, 'wb').write(r.content)\n",
    "\n",
    "for bird_page in list(bird_page_set)[:30]:\n",
    "    # Opens the bird wiki page\n",
    "    driver.get(bird_page)\n",
    "    # Searches for the link that takes into the bird's audios\n",
    "    audio_page = driver.find_element(By.LINK_TEXT, \"Sons\").get_attribute('href')\n",
    "    print(audio_page)\n",
    "    # Opens the audio's page\n",
    "    driver.get(audio_page)\n",
    "\n",
    "    title = driver.find_element(By.CLASS_NAME, 'wa-registros-titulo')\n",
    "    complete_name = title.text.replace('Sons de ', '')\n",
    "    \n",
    "    # Remove special characters\n",
    "    complete_name = complete_name.replace('(', '')\n",
    "    complete_name = complete_name.replace(')', '')\n",
    "    complete_name = complete_name.replace(' ', '_')\n",
    "    \n",
    "    print(complete_name)\n",
    "    # Testing the download\n",
    "\n",
    "    audios = driver.find_elements(By.TAG_NAME, 'audio')\n",
    "    # Verify if the folder exists, if not, it will create it\n",
    "    Path(\"audios\").mkdir(parents=True, exist_ok=True)\n",
    "\n",
    "    print(\"Downloading audios\")\n",
    "    \n",
    "    max_files = 20\n",
    "\n",
    "    with concurrent.futures.ThreadPoolExecutor() as executor:\n",
    "        for n, audio_src in enumerate(audios, 0):\n",
    "            # Stop the loop if the maximum number of files is reached\n",
    "            if n >= max_files:\n",
    "                break\n",
    "\n",
    "            executor.submit(download_audio, audio_src, n, complete_name)"
   ]
  },
  {
   "cell_type": "code",
   "execution_count": null,
   "metadata": {},
   "outputs": [],
   "source": []
  }
 ],
 "metadata": {
  "kernelspec": {
   "display_name": "Python 3",
   "language": "python",
   "name": "python3"
  },
  "language_info": {
   "codemirror_mode": {
    "name": "ipython",
    "version": 3
   },
   "file_extension": ".py",
   "mimetype": "text/x-python",
   "name": "python",
   "nbconvert_exporter": "python",
   "pygments_lexer": "ipython3",
   "version": "3.10.13"
  },
  "metadata": {
   "interpreter": {
    "hash": "a1684a6cf0ca4c396cfb47f9f7707c258538450586e445cea01225c85f2099f0"
   }
  }
 },
 "nbformat": 4,
 "nbformat_minor": 4
}
